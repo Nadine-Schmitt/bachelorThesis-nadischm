{
 "cells": [
  {
   "cell_type": "markdown",
   "metadata": {},
   "source": [
    "# Translation of the KORE dataset"
   ]
  },
  {
   "cell_type": "markdown",
   "metadata": {},
   "source": [
    "See **translateWikipageNames.py** script.\n",
    "\n",
    "This script translate automatically the original English KORE dataset into other languages.\n",
    "\n",
    "To translate a single entity from the English KORE dataset the [MediaWkiki Action API](https://www.mediawiki.org/wiki/API:Search) is used. For each English entity in the KORE dataset (which has an English Wikipedia page), the corresponding Wikipedia page in the target language is searched and then taken as translated entity.\n"
   ]
  },
  {
   "cell_type": "markdown",
   "metadata": {},
   "source": [
    "## Import"
   ]
  },
  {
   "cell_type": "markdown",
   "metadata": {},
   "source": [
    "[requests](https://realpython.com/python-requests/) and [argparse](https://docs.python.org/3/library/argparse.html) are needed for this script to work:"
   ]
  },
  {
   "cell_type": "code",
   "execution_count": 1,
   "metadata": {},
   "outputs": [],
   "source": [
    "import requests\n",
    "import argparse"
   ]
  },
  {
   "cell_type": "markdown",
   "metadata": {},
   "source": [
    "## General usage"
   ]
  },
  {
   "cell_type": "markdown",
   "metadata": {},
   "source": [
    "The usage of the script can be seen with the default -h or --help flag:"
   ]
  },
  {
   "cell_type": "code",
   "execution_count": 2,
   "metadata": {},
   "outputs": [
    {
     "name": "stdout",
     "output_type": "stream",
     "text": [
      "Microsoft Windows [Version 10.0.17134.885]\r\n",
      "(c) 2018 Microsoft Corporation. Alle Rechte vorbehalten.\r\n",
      "\r\n",
      "(base) C:\\Users\\nadin\\Documents\\Bachelorarbeit\\Code>python translateWikipageNames.py --help\n",
      "usage: translateWikipageNames.py [-h] source target lang\r\n",
      "\r\n",
      "Script for translating wikipedia page names\r\n",
      "\r\n",
      "positional arguments:\r\n",
      "  source      source folder with the dataset\r\n",
      "  target      target folder in which to store the translated data\r\n",
      "  lang        language in which to translate to\r\n",
      "\r\n",
      "optional arguments:\r\n",
      "  -h, --help  show this help message and exit\r\n",
      "\r\n",
      "(base) C:\\Users\\nadin\\Documents\\Bachelorarbeit\\Code>"
     ]
    }
   ],
   "source": [
    "%%cmd\n",
    "python translateWikipageNames.py --help"
   ]
  },
  {
   "cell_type": "markdown",
   "metadata": {},
   "source": [
    "## Functions"
   ]
  },
  {
   "cell_type": "markdown",
   "metadata": {},
   "source": [
    "With following function the original English KORE datatset is loaded:"
   ]
  },
  {
   "cell_type": "code",
   "execution_count": 3,
   "metadata": {},
   "outputs": [],
   "source": [
    "def readFile(source):\n",
    "    list = [line.rstrip('\\n') for line in open(source, encoding=\"UTF-8\")]\n",
    "   \n",
    "    lenght = len(list)\n",
    "    #list[0] = 'Apple Inc.'\n",
    "    #list[195] = 'Golden Globe Award for Best Actor - Motion Picture Drama' #instead of Golden Globe Award for Best Actor â€“ Motion Picture Drama\n",
    "    #list[299]= 'Kärtsy Hatakka' #instead of KÃ¤rtsy Hatakka\n",
    "    #list[302]= 'Ragnarök' #instead of RagnarÃ¶k\n",
    "    #print(list)\n",
    "\n",
    "    for index in range(lenght):\n",
    "        if list[index][0] == \"\\t\":\n",
    "            list[index] = list[index][1:len(list[index])]\n",
    "    return list"
   ]
  },
  {
   "cell_type": "markdown",
   "metadata": {},
   "source": [
    "The writeFile-function writes the translated entities (which are in the list) to the target file:"
   ]
  },
  {
   "cell_type": "code",
   "execution_count": 4,
   "metadata": {},
   "outputs": [],
   "source": [
    "def writeFile(target, list):\n",
    "    \n",
    "    with open(target, 'w', encoding=\"UTF-8\") as f:\n",
    "        for name in list:\n",
    "            f.writelines(name)\n",
    "            f.writelines(\"\\n\")"
   ]
  },
  {
   "cell_type": "markdown",
   "metadata": {},
   "source": [
    "## Configuration and Main\n"
   ]
  },
  {
   "cell_type": "code",
   "execution_count": null,
   "metadata": {},
   "outputs": [],
   "source": [
    "parser = argparse.ArgumentParser(description='Script for translating wikipedia page names')\n",
    "parser.add_argument('source', type=str, help='source folder with the dataset')\n",
    "parser.add_argument('target', type=str, help='target folder in which to store the translated data')\n",
    "parser.add_argument('lang', type=str, help='language in which to translate to')\n",
    "\n",
    "args = parser.parse_args()\n",
    "\n",
    "#read file into list\n",
    "pageList = readFile(args.source)\n",
    "#print(pageList)\n",
    "\n",
    "#set language in which the datatset should be translated to\n",
    "LANG = str(args.lang)\n",
    "#print(LANG)\n",
    "\n",
    "#empty list, where the translated entities will be stored in\n",
    "pageTranslated = []\n",
    "\n",
    "for e in pageList:\n",
    "    \n",
    "    S = requests.Session()\n",
    "    \n",
    "    #set URL to the wikipedia in which language on like to translate to; here german: de\n",
    "    #it: italian, es: spanish, fr: french\n",
    "    URL = \"https://\" + LANG + \".wikipedia.org/w/api.php\"\n",
    "    #print(URL)\n",
    "    \n",
    "    SEARCHPAGE = LANG + \":\" + e\n",
    "\n",
    "    PARAMS = {\n",
    "        'action':\"query\",\n",
    "        'list':\"search\",\n",
    "        'srsearch': SEARCHPAGE,\n",
    "        'format':\"json\"\n",
    "    }\n",
    "\n",
    "    R = S.get(url=URL, params=PARAMS)\n",
    "    DATA = R.json()\n",
    "    \n",
    "    \n",
    "    pageTranslated.append(str((DATA['query']['search'][0]['title'])))\n",
    "    \n",
    "#write list into file\n",
    "writeFile(args.target, pageTranslated)\n",
    "print(\"Translation successfully saved into \" + args.target)"
   ]
  },
  {
   "cell_type": "markdown",
   "metadata": {},
   "source": [
    "## Example "
   ]
  },
  {
   "cell_type": "markdown",
   "metadata": {},
   "source": [
    "Translate English entity _European Commission_ into German entity _Europäische Kommission_:"
   ]
  },
  {
   "cell_type": "code",
   "execution_count": 5,
   "metadata": {},
   "outputs": [
    {
     "name": "stdout",
     "output_type": "stream",
     "text": [
      "Europäische Kommission\n"
     ]
    }
   ],
   "source": [
    "#test\n",
    "S = requests.Session()\n",
    "    \n",
    "#set URL to the wikipedia in which language on like to translate to: here german: de\n",
    "URL = \"https://de.wikipedia.org/w/api.php\"\n",
    "    \n",
    "SEARCHPAGE = 'de:European Commission'\n",
    "    \n",
    "    \n",
    "PARAMS = {\n",
    "        'action':\"query\",\n",
    "        'list':\"search\",\n",
    "        'srsearch': SEARCHPAGE,\n",
    "        'format':\"json\"\n",
    "    }\n",
    "\n",
    "R = S.get(url=URL, params=PARAMS)\n",
    "DATA = R.json()\n",
    "    \n",
    "\n",
    "print(str((DATA['query']['search'][0]['title'])))"
   ]
  },
  {
   "cell_type": "markdown",
   "metadata": {},
   "source": [
    "## Convert Jupyter Notebook into py-script"
   ]
  },
  {
   "cell_type": "code",
   "execution_count": null,
   "metadata": {},
   "outputs": [],
   "source": [
    "!jupyter nbconvert --to script translateWikipageNames.ipynb"
   ]
  },
  {
   "cell_type": "code",
   "execution_count": null,
   "metadata": {},
   "outputs": [],
   "source": []
  }
 ],
 "metadata": {
  "kernelspec": {
   "display_name": "Python 3",
   "language": "python",
   "name": "python3"
  },
  "language_info": {
   "codemirror_mode": {
    "name": "ipython",
    "version": 3
   },
   "file_extension": ".py",
   "mimetype": "text/x-python",
   "name": "python",
   "nbconvert_exporter": "python",
   "pygments_lexer": "ipython3",
   "version": "3.7.1"
  }
 },
 "nbformat": 4,
 "nbformat_minor": 2
}
